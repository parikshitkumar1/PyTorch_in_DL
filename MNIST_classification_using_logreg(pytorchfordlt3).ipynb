{
  "nbformat": 4,
  "nbformat_minor": 0,
  "metadata": {
    "colab": {
      "name": "MNIST classification using logreg(pytorchfordlt3).ipynb",
      "provenance": []
    },
    "kernelspec": {
      "name": "python3",
      "display_name": "Python 3"
    }
  },
  "cells": [
    {
      "cell_type": "code",
      "metadata": {
        "id": "0J2Il-EKkR5_",
        "colab_type": "code",
        "colab": {}
      },
      "source": [
        "import torch\n",
        "import torchvision\n",
        "from torchvision.datasets import MNIST\n",
        "import torchvision.transforms as transforms\n",
        "import matplotlib.pyplot as plt\n",
        "%matplotlib inline\n",
        "\n",
        "dataset = MNIST(root='data/', download=True)\n",
        "test_dataset = MNIST(root='data/', train=False)"
      ],
      "execution_count": null,
      "outputs": []
    },
    {
      "cell_type": "code",
      "metadata": {
        "id": "w5Pe-pmtkeGm",
        "colab_type": "code",
        "colab": {
          "base_uri": "https://localhost:8080/",
          "height": 52
        },
        "outputId": "12056fea-3eb3-4ca1-91d7-2dd2ac3b9a1a"
      },
      "source": [
        "print(len(dataset))\n",
        "len(test_dataset)"
      ],
      "execution_count": null,
      "outputs": [
        {
          "output_type": "stream",
          "text": [
            "60000\n"
          ],
          "name": "stdout"
        },
        {
          "output_type": "execute_result",
          "data": {
            "text/plain": [
              "10000"
            ]
          },
          "metadata": {
            "tags": []
          },
          "execution_count": 2
        }
      ]
    },
    {
      "cell_type": "code",
      "metadata": {
        "id": "yrVksEG8kqC3",
        "colab_type": "code",
        "colab": {}
      },
      "source": [
        "dataset = MNIST(root='data/', \n",
        "                train=True,\n",
        "                transform=transforms.ToTensor())\n"
      ],
      "execution_count": null,
      "outputs": []
    },
    {
      "cell_type": "code",
      "metadata": {
        "id": "EswJkuo1lLC-",
        "colab_type": "code",
        "colab": {
          "base_uri": "https://localhost:8080/",
          "height": 34
        },
        "outputId": "19453eb1-23ab-40fb-d9cc-a34fb4316ee0"
      },
      "source": [
        "from torch.utils.data import random_split\n",
        "\n",
        "train_ds, val_ds = random_split(dataset, [50000, 10000])\n",
        "len(train_ds), len(val_ds)"
      ],
      "execution_count": null,
      "outputs": [
        {
          "output_type": "execute_result",
          "data": {
            "text/plain": [
              "(50000, 10000)"
            ]
          },
          "metadata": {
            "tags": []
          },
          "execution_count": 4
        }
      ]
    },
    {
      "cell_type": "code",
      "metadata": {
        "id": "ahi1ACORlL6z",
        "colab_type": "code",
        "colab": {}
      },
      "source": [
        "from torch.utils.data import DataLoader\n",
        "\n",
        "batch_size = 128\n",
        "\n",
        "train_loader = DataLoader(train_ds, batch_size, shuffle=True)\n",
        "val_loader = DataLoader(val_ds, batch_size)"
      ],
      "execution_count": null,
      "outputs": []
    },
    {
      "cell_type": "code",
      "metadata": {
        "id": "tWAltUqilRLC",
        "colab_type": "code",
        "colab": {}
      },
      "source": [
        "import torch.nn as nn\n",
        "\n",
        "input_size = 28*28\n",
        "num_classes = 10\n",
        "\n",
        "# Logistic regression model\n",
        "model = nn.Linear(input_size, num_classes)"
      ],
      "execution_count": null,
      "outputs": []
    },
    {
      "cell_type": "code",
      "metadata": {
        "id": "K8Tr44Brlamq",
        "colab_type": "code",
        "colab": {}
      },
      "source": [
        "#flattens\n",
        "class MnistModel(nn.Module):\n",
        "    def __init__(self):\n",
        "        super().__init__()\n",
        "        self.linear = nn.Linear(input_size, num_classes)\n",
        "        \n",
        "    def forward(self, xb):\n",
        "        xb = xb.reshape(-1, 784)\n",
        "        out = self.linear(xb)\n",
        "        return out\n",
        "    \n",
        "model = MnistModel()"
      ],
      "execution_count": null,
      "outputs": []
    },
    {
      "cell_type": "code",
      "metadata": {
        "id": "eaCvt7NOmK-w",
        "colab_type": "code",
        "colab": {
          "base_uri": "https://localhost:8080/",
          "height": 225
        },
        "outputId": "5571dbe2-e503-480f-fcd1-488323fe35ce"
      },
      "source": [
        "print(model.linear.weight.shape, model.linear.bias.shape)\n",
        "list(model.parameters())"
      ],
      "execution_count": null,
      "outputs": [
        {
          "output_type": "stream",
          "text": [
            "torch.Size([10, 784]) torch.Size([10])\n"
          ],
          "name": "stdout"
        },
        {
          "output_type": "execute_result",
          "data": {
            "text/plain": [
              "[Parameter containing:\n",
              " tensor([[ 0.0121, -0.0075,  0.0098,  ...,  0.0285,  0.0337,  0.0260],\n",
              "         [ 0.0328,  0.0315,  0.0298,  ..., -0.0076, -0.0018,  0.0038],\n",
              "         [-0.0005, -0.0271,  0.0356,  ..., -0.0047, -0.0268,  0.0060],\n",
              "         ...,\n",
              "         [-0.0076, -0.0037,  0.0033,  ..., -0.0309, -0.0321,  0.0104],\n",
              "         [ 0.0192,  0.0298,  0.0166,  ...,  0.0136, -0.0147, -0.0135],\n",
              "         [ 0.0148, -0.0314, -0.0150,  ..., -0.0333, -0.0070, -0.0040]],\n",
              "        requires_grad=True), Parameter containing:\n",
              " tensor([ 0.0099, -0.0229,  0.0218,  0.0062, -0.0058,  0.0034, -0.0111,  0.0220,\n",
              "         -0.0072, -0.0306], requires_grad=True)]"
            ]
          },
          "metadata": {
            "tags": []
          },
          "execution_count": 9
        }
      ]
    },
    {
      "cell_type": "code",
      "metadata": {
        "id": "9-w_UmoNmP2O",
        "colab_type": "code",
        "colab": {
          "base_uri": "https://localhost:8080/",
          "height": 121
        },
        "outputId": "acd47a36-5ffa-4f73-c5ee-29031d940079"
      },
      "source": [
        "#MNIST model does the flattening\n",
        "for images, labels in train_loader:\n",
        "    outputs = model(images)\n",
        "    break\n",
        "\n",
        "print('outputs.shape : ', outputs.shape)\n",
        "print('Sample outputs :\\n', outputs[:2].data)"
      ],
      "execution_count": null,
      "outputs": [
        {
          "output_type": "stream",
          "text": [
            "outputs.shape :  torch.Size([128, 10])\n",
            "Sample outputs :\n",
            " tensor([[ 0.1571,  0.0111, -0.0137,  0.2876,  0.1059,  0.2053,  0.1246, -0.1611,\n",
            "         -0.1704, -0.0261],\n",
            "        [ 0.2393,  0.1599, -0.1481,  0.3315,  0.0063,  0.3176,  0.1417,  0.0335,\n",
            "         -0.1298, -0.1271]])\n"
          ],
          "name": "stdout"
        }
      ]
    },
    {
      "cell_type": "code",
      "metadata": {
        "id": "0wyrHAxLmZeG",
        "colab_type": "code",
        "colab": {
          "base_uri": "https://localhost:8080/",
          "height": 121
        },
        "outputId": "e004b074-1bc2-4b65-83d0-a28c70a71432"
      },
      "source": [
        "import torch.nn.functional as F\n",
        "# Apply softmax for each output row\n",
        "probs = F.softmax(outputs, dim=1)\n",
        "\n",
        "# Look at sample probabilities\n",
        "print(\"Sample probabilities:\\n\", probs[:2].data)\n",
        "\n",
        "# Add up the probabilities of an output row\n",
        "print(\"Sum: \", torch.sum(probs[0]).item())"
      ],
      "execution_count": null,
      "outputs": [
        {
          "output_type": "stream",
          "text": [
            "Sample probabilities:\n",
            " tensor([[0.1100, 0.0950, 0.0927, 0.1253, 0.1045, 0.1154, 0.1064, 0.0800, 0.0792,\n",
            "         0.0915],\n",
            "        [0.1152, 0.1064, 0.0782, 0.1264, 0.0913, 0.1246, 0.1045, 0.0938, 0.0797,\n",
            "         0.0799]])\n",
            "Sum:  0.9999999403953552\n"
          ],
          "name": "stdout"
        }
      ]
    },
    {
      "cell_type": "code",
      "metadata": {
        "id": "9fI9Bg94nRAg",
        "colab_type": "code",
        "colab": {
          "base_uri": "https://localhost:8080/",
          "height": 382
        },
        "outputId": "26efe12d-d3f4-4262-bc45-3915b62a5fec"
      },
      "source": [
        "max_probs, preds = torch.max(probs, dim=1)\n",
        "print(preds)\n",
        "print(max_probs)"
      ],
      "execution_count": null,
      "outputs": [
        {
          "output_type": "stream",
          "text": [
            "tensor([3, 3, 4, 6, 3, 7, 4, 3, 6, 6, 6, 7, 3, 8, 5, 5, 6, 4, 6, 3, 3, 6, 3, 3,\n",
            "        4, 3, 3, 3, 0, 3, 5, 6, 3, 5, 6, 4, 5, 6, 3, 3, 5, 5, 6, 3, 5, 6, 4, 8,\n",
            "        3, 3, 3, 5, 0, 5, 3, 6, 8, 3, 6, 5, 5, 3, 8, 3, 4, 3, 3, 4, 3, 5, 3, 3,\n",
            "        3, 3, 3, 3, 7, 5, 3, 3, 0, 3, 5, 5, 7, 5, 0, 6, 5, 3, 6, 0, 4, 3, 6, 9,\n",
            "        5, 6, 6, 3, 6, 3, 3, 6, 3, 3, 5, 3, 5, 3, 3, 6, 3, 6, 8, 6, 6, 3, 3, 3,\n",
            "        6, 3, 5, 3, 6, 3, 3, 2])\n",
            "tensor([0.1253, 0.1264, 0.1212, 0.1169, 0.1406, 0.1257, 0.1317, 0.1208, 0.1299,\n",
            "        0.1504, 0.1293, 0.1153, 0.1347, 0.1199, 0.1234, 0.1130, 0.1484, 0.1382,\n",
            "        0.1587, 0.1551, 0.1519, 0.1158, 0.1370, 0.1231, 0.1135, 0.1191, 0.1405,\n",
            "        0.1365, 0.1226, 0.1474, 0.1327, 0.1375, 0.1637, 0.1103, 0.1463, 0.1250,\n",
            "        0.1152, 0.1235, 0.1339, 0.1214, 0.1169, 0.1341, 0.1377, 0.1150, 0.1369,\n",
            "        0.1339, 0.1111, 0.1169, 0.1235, 0.1352, 0.1256, 0.1281, 0.1254, 0.1341,\n",
            "        0.1340, 0.1255, 0.1127, 0.1371, 0.1357, 0.1150, 0.1301, 0.1264, 0.1292,\n",
            "        0.1260, 0.1456, 0.1312, 0.1537, 0.1385, 0.1328, 0.1172, 0.1361, 0.1388,\n",
            "        0.1318, 0.1435, 0.1234, 0.1377, 0.1161, 0.1265, 0.1295, 0.1220, 0.1260,\n",
            "        0.1303, 0.1508, 0.1329, 0.1126, 0.1450, 0.1180, 0.1307, 0.1267, 0.1293,\n",
            "        0.1150, 0.1184, 0.1334, 0.1333, 0.1194, 0.1310, 0.1265, 0.1496, 0.1163,\n",
            "        0.1295, 0.1382, 0.1477, 0.1323, 0.1550, 0.1251, 0.1255, 0.1149, 0.1209,\n",
            "        0.1113, 0.1307, 0.1406, 0.1358, 0.1266, 0.1348, 0.1275, 0.1445, 0.1219,\n",
            "        0.1351, 0.1523, 0.1432, 0.1276, 0.1222, 0.1110, 0.1230, 0.1262, 0.1452,\n",
            "        0.1254, 0.1402], grad_fn=<MaxBackward0>)\n"
          ],
          "name": "stdout"
        }
      ]
    },
    {
      "cell_type": "code",
      "metadata": {
        "id": "fF1w04QxnYDf",
        "colab_type": "code",
        "colab": {
          "base_uri": "https://localhost:8080/",
          "height": 121
        },
        "outputId": "4af0ab3c-21c9-432f-c92a-e979c5adb39a"
      },
      "source": [
        "labels"
      ],
      "execution_count": null,
      "outputs": [
        {
          "output_type": "execute_result",
          "data": {
            "text/plain": [
              "tensor([9, 8, 9, 4, 7, 0, 0, 1, 6, 6, 8, 7, 1, 3, 3, 1, 5, 8, 4, 6, 8, 1, 2, 1,\n",
              "        2, 5, 5, 9, 5, 2, 7, 9, 1, 1, 0, 6, 3, 2, 5, 9, 1, 7, 0, 1, 3, 9, 1, 9,\n",
              "        8, 1, 5, 7, 7, 3, 8, 2, 2, 5, 4, 3, 1, 1, 3, 3, 5, 2, 1, 8, 1, 1, 9, 6,\n",
              "        1, 9, 7, 9, 4, 7, 3, 8, 7, 9, 9, 7, 4, 9, 9, 7, 3, 0, 4, 0, 8, 3, 7, 2,\n",
              "        4, 6, 2, 6, 0, 2, 3, 6, 2, 9, 1, 1, 1, 4, 7, 5, 1, 3, 6, 0, 5, 9, 6, 2,\n",
              "        8, 8, 1, 9, 6, 8, 7, 4])"
            ]
          },
          "metadata": {
            "tags": []
          },
          "execution_count": 13
        }
      ]
    },
    {
      "cell_type": "code",
      "metadata": {
        "id": "j2vpMSZ9nagP",
        "colab_type": "code",
        "colab": {}
      },
      "source": [
        "def accuracy(outputs, labels):\n",
        "    _,preds = torch.max(outputs, dim=1)\n",
        "    return torch.tensor(torch.sum(preds == labels).item() / len(preds))\n",
        "\n"
      ],
      "execution_count": null,
      "outputs": []
    },
    {
      "cell_type": "code",
      "metadata": {
        "id": "cqOxN6Z1ng33",
        "colab_type": "code",
        "colab": {
          "base_uri": "https://localhost:8080/",
          "height": 34
        },
        "outputId": "1b56d5a4-fdf3-4ec1-a789-1fd527baf287"
      },
      "source": [
        "accuracy(outputs, labels)"
      ],
      "execution_count": null,
      "outputs": [
        {
          "output_type": "execute_result",
          "data": {
            "text/plain": [
              "tensor(0.0859)"
            ]
          },
          "metadata": {
            "tags": []
          },
          "execution_count": 19
        }
      ]
    },
    {
      "cell_type": "code",
      "metadata": {
        "id": "1cdeKWJ6nq2K",
        "colab_type": "code",
        "colab": {
          "base_uri": "https://localhost:8080/",
          "height": 34
        },
        "outputId": "00076fda-7dd0-45cc-dbca-9c3f4184de35"
      },
      "source": [
        "loss_fn = F.cross_entropy\n",
        "loss = loss_fn(outputs, labels)\n",
        "print(loss)"
      ],
      "execution_count": null,
      "outputs": [
        {
          "output_type": "stream",
          "text": [
            "tensor(2.3134, grad_fn=<NllLossBackward>)\n"
          ],
          "name": "stdout"
        }
      ]
    },
    {
      "cell_type": "code",
      "metadata": {
        "id": "wJsOc61En4hR",
        "colab_type": "code",
        "colab": {}
      },
      "source": [
        "class MnistModel(nn.Module):\n",
        "    def __init__(self):\n",
        "        super().__init__()\n",
        "        self.linear = nn.Linear(input_size, num_classes)\n",
        "        \n",
        "    def forward(self, xb):\n",
        "        xb = xb.reshape(-1, 784)\n",
        "        out = self.linear(xb)\n",
        "        return out\n",
        "    \n",
        "    def training_step(self, batch):\n",
        "        images, labels = batch \n",
        "        out = self(images)                  # Generate predictions\n",
        "        loss = F.cross_entropy(out, labels) # Calculate loss\n",
        "        return loss\n",
        "    \n",
        "    def validation_step(self, batch):\n",
        "        images, labels = batch \n",
        "        out = self(images)                    # Generate predictions\n",
        "        loss = F.cross_entropy(out, labels)   # Calculate loss\n",
        "        acc = accuracy(out, labels)           # Calculate accuracy\n",
        "        return {'val_loss': loss, 'val_acc': acc}\n",
        "        \n",
        "    def validation_epoch_end(self, outputs):\n",
        "        batch_losses = [x['val_loss'] for x in outputs]\n",
        "        epoch_loss = torch.stack(batch_losses).mean()   # Combine losses\n",
        "        batch_accs = [x['val_acc'] for x in outputs]\n",
        "        epoch_acc = torch.stack(batch_accs).mean()      # Combine accuracies\n",
        "        return {'val_loss': epoch_loss.item(), 'val_acc': epoch_acc.item()}\n",
        "    \n",
        "    def epoch_end(self, epoch, result):\n",
        "        print(\"Epoch [{}], val_loss: {:.4f}, val_acc: {:.4f}\".format(epoch, result['val_loss'], result['val_acc']))\n",
        "    \n",
        "model = MnistModel()"
      ],
      "execution_count": null,
      "outputs": []
    },
    {
      "cell_type": "code",
      "metadata": {
        "id": "_henoLpsoFTb",
        "colab_type": "code",
        "colab": {}
      },
      "source": [
        "def evaluate(model, val_loader):\n",
        "    outputs = [model.validation_step(batch) for batch in val_loader]\n",
        "    return model.validation_epoch_end(outputs)\n",
        "\n",
        "def fit(epochs, lr, model, train_loader, val_loader, opt_func=torch.optim.SGD):\n",
        "    history = []\n",
        "    optimizer = opt_func(model.parameters(), lr)\n",
        "    for epoch in range(epochs):\n",
        "        # Training Phase \n",
        "        for batch in train_loader:\n",
        "            loss = model.training_step(batch)\n",
        "            loss.backward()\n",
        "            optimizer.step()\n",
        "            optimizer.zero_grad()\n",
        "        # Validation phase\n",
        "        result = evaluate(model, val_loader)\n",
        "        model.epoch_end(epoch, result)\n",
        "        history.append(result)\n",
        "    return history"
      ],
      "execution_count": null,
      "outputs": []
    },
    {
      "cell_type": "code",
      "metadata": {
        "id": "Oq4IWJrjoLu9",
        "colab_type": "code",
        "colab": {
          "base_uri": "https://localhost:8080/",
          "height": 34
        },
        "outputId": "c4a937e9-a4bf-4c45-b29d-12ad5ed0b8f6"
      },
      "source": [
        "result0 = evaluate(model, val_loader)\n",
        "result0"
      ],
      "execution_count": null,
      "outputs": [
        {
          "output_type": "execute_result",
          "data": {
            "text/plain": [
              "{'val_acc': 0.18334652483463287, 'val_loss': 2.2879199981689453}"
            ]
          },
          "metadata": {
            "tags": []
          },
          "execution_count": 23
        }
      ]
    },
    {
      "cell_type": "code",
      "metadata": {
        "id": "_6aDvWq6oOk5",
        "colab_type": "code",
        "colab": {
          "base_uri": "https://localhost:8080/",
          "height": 885
        },
        "outputId": "d9ebee33-c647-42d7-e829-2f6e7394df75"
      },
      "source": [
        "history1 = fit(50, 0.001, model, train_loader, val_loader)"
      ],
      "execution_count": null,
      "outputs": [
        {
          "output_type": "stream",
          "text": [
            "Epoch [0], val_loss: 0.5774, val_acc: 0.8611\n",
            "Epoch [1], val_loss: 0.5715, val_acc: 0.8620\n",
            "Epoch [2], val_loss: 0.5658, val_acc: 0.8629\n",
            "Epoch [3], val_loss: 0.5604, val_acc: 0.8630\n",
            "Epoch [4], val_loss: 0.5553, val_acc: 0.8638\n",
            "Epoch [5], val_loss: 0.5504, val_acc: 0.8645\n",
            "Epoch [6], val_loss: 0.5458, val_acc: 0.8658\n",
            "Epoch [7], val_loss: 0.5413, val_acc: 0.8663\n",
            "Epoch [8], val_loss: 0.5370, val_acc: 0.8668\n",
            "Epoch [9], val_loss: 0.5329, val_acc: 0.8671\n",
            "Epoch [10], val_loss: 0.5290, val_acc: 0.8672\n",
            "Epoch [11], val_loss: 0.5252, val_acc: 0.8679\n",
            "Epoch [12], val_loss: 0.5216, val_acc: 0.8688\n",
            "Epoch [13], val_loss: 0.5181, val_acc: 0.8703\n",
            "Epoch [14], val_loss: 0.5148, val_acc: 0.8712\n",
            "Epoch [15], val_loss: 0.5115, val_acc: 0.8717\n",
            "Epoch [16], val_loss: 0.5084, val_acc: 0.8723\n",
            "Epoch [17], val_loss: 0.5054, val_acc: 0.8722\n",
            "Epoch [18], val_loss: 0.5025, val_acc: 0.8722\n",
            "Epoch [19], val_loss: 0.4997, val_acc: 0.8729\n",
            "Epoch [20], val_loss: 0.4970, val_acc: 0.8735\n",
            "Epoch [21], val_loss: 0.4943, val_acc: 0.8739\n",
            "Epoch [22], val_loss: 0.4918, val_acc: 0.8742\n",
            "Epoch [23], val_loss: 0.4893, val_acc: 0.8745\n",
            "Epoch [24], val_loss: 0.4869, val_acc: 0.8748\n",
            "Epoch [25], val_loss: 0.4846, val_acc: 0.8749\n",
            "Epoch [26], val_loss: 0.4823, val_acc: 0.8753\n",
            "Epoch [27], val_loss: 0.4801, val_acc: 0.8755\n",
            "Epoch [28], val_loss: 0.4780, val_acc: 0.8758\n",
            "Epoch [29], val_loss: 0.4759, val_acc: 0.8758\n",
            "Epoch [30], val_loss: 0.4739, val_acc: 0.8759\n",
            "Epoch [31], val_loss: 0.4719, val_acc: 0.8761\n",
            "Epoch [32], val_loss: 0.4700, val_acc: 0.8767\n",
            "Epoch [33], val_loss: 0.4682, val_acc: 0.8769\n",
            "Epoch [34], val_loss: 0.4663, val_acc: 0.8771\n",
            "Epoch [35], val_loss: 0.4646, val_acc: 0.8780\n",
            "Epoch [36], val_loss: 0.4628, val_acc: 0.8779\n",
            "Epoch [37], val_loss: 0.4611, val_acc: 0.8781\n",
            "Epoch [38], val_loss: 0.4595, val_acc: 0.8785\n",
            "Epoch [39], val_loss: 0.4579, val_acc: 0.8788\n",
            "Epoch [40], val_loss: 0.4563, val_acc: 0.8792\n",
            "Epoch [41], val_loss: 0.4548, val_acc: 0.8796\n",
            "Epoch [42], val_loss: 0.4533, val_acc: 0.8799\n",
            "Epoch [43], val_loss: 0.4518, val_acc: 0.8803\n",
            "Epoch [44], val_loss: 0.4504, val_acc: 0.8806\n",
            "Epoch [45], val_loss: 0.4490, val_acc: 0.8808\n",
            "Epoch [46], val_loss: 0.4476, val_acc: 0.8812\n",
            "Epoch [47], val_loss: 0.4463, val_acc: 0.8812\n",
            "Epoch [48], val_loss: 0.4450, val_acc: 0.8812\n",
            "Epoch [49], val_loss: 0.4437, val_acc: 0.8821\n"
          ],
          "name": "stdout"
        }
      ]
    },
    {
      "cell_type": "code",
      "metadata": {
        "id": "p7FotDaOobDK",
        "colab_type": "code",
        "colab": {}
      },
      "source": [
        ""
      ],
      "execution_count": null,
      "outputs": []
    }
  ]
}