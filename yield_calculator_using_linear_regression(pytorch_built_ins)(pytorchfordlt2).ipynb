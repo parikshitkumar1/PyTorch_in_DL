{
  "nbformat": 4,
  "nbformat_minor": 0,
  "metadata": {
    "colab": {
      "name": "yield calculator using linear regression(pytorch-built ins)(pytorchfordlt2).ipynb",
      "provenance": []
    },
    "kernelspec": {
      "name": "python3",
      "display_name": "Python 3"
    }
  },
  "cells": [
    {
      "cell_type": "code",
      "metadata": {
        "id": "HJ28S_j8g7kn",
        "colab_type": "code",
        "colab": {}
      },
      "source": [
        "import torch.nn as nn\n",
        "import torch\n",
        "import numpy as np"
      ],
      "execution_count": null,
      "outputs": []
    },
    {
      "cell_type": "code",
      "metadata": {
        "id": "033uDZVahOua",
        "colab_type": "code",
        "colab": {}
      },
      "source": [
        "inputs = np.array([[73, 67, 43], [91, 88, 64], [87, 134, 58], \n",
        "                   [102, 43, 37], [69, 96, 70], [73, 67, 43], \n",
        "                   [91, 88, 64], [87, 134, 58], [102, 43, 37], \n",
        "                   [69, 96, 70], [73, 67, 43], [91, 88, 64], \n",
        "                   [87, 134, 58], [102, 43, 37], [69, 96, 70]], \n",
        "                  dtype='float32')\n",
        "\n",
        "# Targets (apples, oranges)\n",
        "targets = np.array([[56, 70], [81, 101], [119, 133], \n",
        "                    [22, 37], [103, 119], [56, 70], \n",
        "                    [81, 101], [119, 133], [22, 37], \n",
        "                    [103, 119], [56, 70], [81, 101], \n",
        "                    [119, 133], [22, 37], [103, 119]], \n",
        "                   dtype='float32')\n",
        "\n",
        "inputs = torch.from_numpy(inputs)\n",
        "targets = torch.from_numpy(targets)"
      ],
      "execution_count": null,
      "outputs": []
    },
    {
      "cell_type": "code",
      "metadata": {
        "id": "dx406p5HhX2l",
        "colab_type": "code",
        "colab": {}
      },
      "source": [
        "from torch.utils.data import TensorDataset\n",
        "from torch.utils.data import DataLoader\n",
        "train_ds = TensorDataset(inputs, targets)"
      ],
      "execution_count": null,
      "outputs": []
    },
    {
      "cell_type": "code",
      "metadata": {
        "id": "8HyES8PIhyCa",
        "colab_type": "code",
        "colab": {}
      },
      "source": [
        "batch_size = 5\n",
        "train_dl = DataLoader(train_ds, batch_size, shuffle=True)"
      ],
      "execution_count": null,
      "outputs": []
    },
    {
      "cell_type": "code",
      "metadata": {
        "id": "rsno2Z6Uh-rV",
        "colab_type": "code",
        "colab": {
          "base_uri": "https://localhost:8080/",
          "height": 191
        },
        "outputId": "74269526-8474-4fe7-ae45-fcf74ef727ee"
      },
      "source": [
        "for xb, yb in train_dl:\n",
        "    print(xb)\n",
        "    print(yb)\n",
        "    break"
      ],
      "execution_count": null,
      "outputs": [
        {
          "output_type": "stream",
          "text": [
            "tensor([[ 87., 134.,  58.],\n",
            "        [102.,  43.,  37.],\n",
            "        [ 73.,  67.,  43.],\n",
            "        [ 87., 134.,  58.],\n",
            "        [ 73.,  67.,  43.]])\n",
            "tensor([[119., 133.],\n",
            "        [ 22.,  37.],\n",
            "        [ 56.,  70.],\n",
            "        [119., 133.],\n",
            "        [ 56.,  70.]])\n"
          ],
          "name": "stdout"
        }
      ]
    },
    {
      "cell_type": "code",
      "metadata": {
        "id": "b0LfM0fgiIFX",
        "colab_type": "code",
        "colab": {
          "base_uri": "https://localhost:8080/",
          "height": 104
        },
        "outputId": "f413304d-5bd2-4097-ebc4-e51919781758"
      },
      "source": [
        "model = nn.Linear(3,2) #(input,output) #initializes weights and biases\n",
        "print(model.weight)\n",
        "print(model.bias)"
      ],
      "execution_count": null,
      "outputs": [
        {
          "output_type": "stream",
          "text": [
            "Parameter containing:\n",
            "tensor([[ 0.5590,  0.2912,  0.3588],\n",
            "        [ 0.3045, -0.4662, -0.1345]], requires_grad=True)\n",
            "Parameter containing:\n",
            "tensor([ 0.1433, -0.4998], requires_grad=True)\n"
          ],
          "name": "stdout"
        }
      ]
    },
    {
      "cell_type": "code",
      "metadata": {
        "id": "ifXZnWtNiWLL",
        "colab_type": "code",
        "colab": {
          "base_uri": "https://localhost:8080/",
          "height": 278
        },
        "outputId": "9382649b-7525-4dc2-f8b0-4e895b71024b"
      },
      "source": [
        "preds = model(inputs)\n",
        "preds"
      ],
      "execution_count": null,
      "outputs": [
        {
          "output_type": "execute_result",
          "data": {
            "text/plain": [
              "tensor([[ 75.8860, -15.2905],\n",
              "        [ 99.5972, -22.4247],\n",
              "        [108.6014, -44.2819],\n",
              "        [ 82.9564,   5.5375],\n",
              "        [ 91.7813, -33.6615],\n",
              "        [ 75.8860, -15.2905],\n",
              "        [ 99.5972, -22.4247],\n",
              "        [108.6014, -44.2819],\n",
              "        [ 82.9564,   5.5375],\n",
              "        [ 91.7813, -33.6615],\n",
              "        [ 75.8860, -15.2905],\n",
              "        [ 99.5972, -22.4247],\n",
              "        [108.6014, -44.2819],\n",
              "        [ 82.9564,   5.5375],\n",
              "        [ 91.7813, -33.6615]], grad_fn=<AddmmBackward>)"
            ]
          },
          "metadata": {
            "tags": []
          },
          "execution_count": 11
        }
      ]
    },
    {
      "cell_type": "code",
      "metadata": {
        "id": "aZjj9k8yip95",
        "colab_type": "code",
        "colab": {}
      },
      "source": [
        "import torch.nn.functional as F"
      ],
      "execution_count": null,
      "outputs": []
    },
    {
      "cell_type": "code",
      "metadata": {
        "id": "49C_d5S2iv5n",
        "colab_type": "code",
        "colab": {
          "base_uri": "https://localhost:8080/",
          "height": 34
        },
        "outputId": "778a2773-4f19-4ddc-d720-6fc960162201"
      },
      "source": [
        "loss_fn = F.mse_loss\n",
        "loss = loss_fn(model(inputs), targets)\n",
        "print(loss)"
      ],
      "execution_count": null,
      "outputs": [
        {
          "output_type": "stream",
          "text": [
            "tensor(8292.3379, grad_fn=<MseLossBackward>)\n"
          ],
          "name": "stdout"
        }
      ]
    },
    {
      "cell_type": "code",
      "metadata": {
        "id": "woWSgrQAi1G1",
        "colab_type": "code",
        "colab": {}
      },
      "source": [
        "opt = torch.optim.SGD(model.parameters(), lr=0.00001)"
      ],
      "execution_count": null,
      "outputs": []
    },
    {
      "cell_type": "code",
      "metadata": {
        "id": "IztfTklFi7dU",
        "colab_type": "code",
        "colab": {}
      },
      "source": [
        "#final model trainer\n",
        "def fit(num_epochs, model, loss_fn, opt, train_dl):\n",
        "    \n",
        "    # Repeat for given number of epochs\n",
        "    for epoch in range(num_epochs):\n",
        "        \n",
        "        # Train with batches of data\n",
        "        for xb,yb in train_dl:\n",
        "            \n",
        "            # 1. Generate predictions\n",
        "            pred = model(xb)\n",
        "            \n",
        "            # 2. Calculate loss\n",
        "            loss = loss_fn(pred, yb)\n",
        "            \n",
        "            # 3. Compute gradients\n",
        "            loss.backward()\n",
        "            \n",
        "            # 4. Update parameters using gradients\n",
        "            opt.step()\n",
        "            \n",
        "            # 5. Reset the gradients to zero\n",
        "            opt.zero_grad()\n",
        "        \n",
        "        # Print the progress\n",
        "        if (epoch+1) % 10 == 0:\n",
        "            print('Epoch [{}/{}], Loss: {:.4f}'.format(epoch+1, num_epochs, loss.item()))"
      ],
      "execution_count": null,
      "outputs": []
    },
    {
      "cell_type": "code",
      "metadata": {
        "id": "MemfyPqOjtlX",
        "colab_type": "code",
        "colab": {
          "base_uri": "https://localhost:8080/",
          "height": 885
        },
        "outputId": "a537643b-413b-4d1f-b27a-c0eb07fcfc61"
      },
      "source": [
        "fit(200, model, loss_fn, opt,train_dl)\n",
        "preds = model(inputs)\n",
        "print(preds)\n",
        "print(targets)"
      ],
      "execution_count": null,
      "outputs": [
        {
          "output_type": "stream",
          "text": [
            "Epoch [10/200], Loss: 2.7142\n",
            "Epoch [20/200], Loss: 4.8120\n",
            "Epoch [30/200], Loss: 4.0721\n",
            "Epoch [40/200], Loss: 3.2838\n",
            "Epoch [50/200], Loss: 3.4639\n",
            "Epoch [60/200], Loss: 3.7586\n",
            "Epoch [70/200], Loss: 4.8272\n",
            "Epoch [80/200], Loss: 3.6210\n",
            "Epoch [90/200], Loss: 3.1087\n",
            "Epoch [100/200], Loss: 1.7108\n",
            "Epoch [110/200], Loss: 1.1349\n",
            "Epoch [120/200], Loss: 2.6064\n",
            "Epoch [130/200], Loss: 2.1502\n",
            "Epoch [140/200], Loss: 2.2045\n",
            "Epoch [150/200], Loss: 2.3645\n",
            "Epoch [160/200], Loss: 2.3850\n",
            "Epoch [170/200], Loss: 1.9702\n",
            "Epoch [180/200], Loss: 1.9529\n",
            "Epoch [190/200], Loss: 1.6518\n",
            "Epoch [200/200], Loss: 2.2272\n",
            "tensor([[ 57.2523,  70.3404],\n",
            "        [ 81.6974,  99.6729],\n",
            "        [119.7339, 135.1055],\n",
            "        [ 21.3803,  37.6345],\n",
            "        [100.8851, 116.9482],\n",
            "        [ 57.2523,  70.3404],\n",
            "        [ 81.6974,  99.6729],\n",
            "        [119.7339, 135.1055],\n",
            "        [ 21.3803,  37.6345],\n",
            "        [100.8851, 116.9482],\n",
            "        [ 57.2523,  70.3404],\n",
            "        [ 81.6974,  99.6729],\n",
            "        [119.7339, 135.1055],\n",
            "        [ 21.3803,  37.6345],\n",
            "        [100.8851, 116.9482]], grad_fn=<AddmmBackward>)\n",
            "tensor([[ 56.,  70.],\n",
            "        [ 81., 101.],\n",
            "        [119., 133.],\n",
            "        [ 22.,  37.],\n",
            "        [103., 119.],\n",
            "        [ 56.,  70.],\n",
            "        [ 81., 101.],\n",
            "        [119., 133.],\n",
            "        [ 22.,  37.],\n",
            "        [103., 119.],\n",
            "        [ 56.,  70.],\n",
            "        [ 81., 101.],\n",
            "        [119., 133.],\n",
            "        [ 22.,  37.],\n",
            "        [103., 119.]])\n"
          ],
          "name": "stdout"
        }
      ]
    },
    {
      "cell_type": "code",
      "metadata": {
        "id": "4-43REdCj19Y",
        "colab_type": "code",
        "colab": {}
      },
      "source": [
        ""
      ],
      "execution_count": null,
      "outputs": []
    }
  ]
}